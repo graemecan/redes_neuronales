{
 "cells": [
  {
   "cell_type": "markdown",
   "id": "f950ad40",
   "metadata": {},
   "source": [
    "# TensorFlow Parte V - Gráfos y `tf.function`"
   ]
  },
  {
   "cell_type": "markdown",
   "id": "e19bf60f",
   "metadata": {},
   "source": [
    "En los Notebooks previos usabamos TensorFlow en su modo de *eager execution*.\n",
    "\n",
    "En este modo las operaciones de TensorFlow están ejecutadas por Python, operación por operación, y los resultados están devueltos a Python.\n",
    "\n",
    "El otro modo es *graph execution* que tiene mejor rendimiento y permite portabilidad fuera de Python."
   ]
  },
  {
   "cell_type": "markdown",
   "id": "ebbf880b",
   "metadata": {},
   "source": [
    "Gráfos son estructuras de datos que contienen un conjunto de objetos de tipo `tf.Operation` que representan unidades de cómputo, y objetos de tipo `tf.Tensor` que representan los datos que fluyen entre las operaciones."
   ]
  },
  {
   "cell_type": "markdown",
   "id": "4d9f78fa",
   "metadata": {},
   "source": [
    "Se puede visualizar un gráfo con TensorBoard (más tarde). Aquí hay un ejemplo para una red neuronal de dos capas:\n",
    "\n",
    "![](two-layer-network.png)"
   ]
  },
  {
   "cell_type": "markdown",
   "id": "5d0cbbe3",
   "metadata": {},
   "source": [
    "Gráfos son muy útiles porque permiten usar modelos de TensorFlow en **varios dispositivos**, **en paralelo** y **rápidamente**."
   ]
  },
  {
   "cell_type": "markdown",
   "id": "5cd672c4",
   "metadata": {},
   "source": [
    "En la práctica, definimos los modelos con Python, y construimos los gráfos cuando sea necesario."
   ]
  },
  {
   "cell_type": "code",
   "execution_count": 1,
   "id": "2e1d37da",
   "metadata": {},
   "outputs": [
    {
     "name": "stderr",
     "output_type": "stream",
     "text": [
      "2023-09-09 16:59:03.628839: I tensorflow/core/platform/cpu_feature_guard.cc:182] This TensorFlow binary is optimized to use available CPU instructions in performance-critical operations.\n",
      "To enable the following instructions: AVX2 FMA, in other operations, rebuild TensorFlow with the appropriate compiler flags.\n",
      "2023-09-09 16:59:04.605230: W tensorflow/compiler/tf2tensorrt/utils/py_utils.cc:38] TF-TRT Warning: Could not find TensorRT\n"
     ]
    }
   ],
   "source": [
    "import tensorflow as tf\n",
    "import timeit\n",
    "from datetime import datetime"
   ]
  },
  {
   "cell_type": "markdown",
   "id": "79f7f2d0",
   "metadata": {},
   "source": [
    "## Aprovechando de los gráfos"
   ]
  },
  {
   "cell_type": "markdown",
   "id": "2b18e1a8",
   "metadata": {},
   "source": [
    "Se puede crear y correr un gráfo en TensorFlow usando `tf.function`, con una llamada o un decorador. `tf.function` toma una función regular y devuelve una `Function`: una función llamable que contruye gráfos de TensorFlow de la función de Python. Se usa una `Function` en la misma manera como su equivalente en Python."
   ]
  },
  {
   "cell_type": "code",
   "execution_count": 2,
   "id": "bb9e8e1d",
   "metadata": {},
   "outputs": [],
   "source": [
    "def una_funcion_regular(x, y, b):\n",
    "    x = tf.matmul(x, y)\n",
    "    x = x + b\n",
    "    return x"
   ]
  },
  {
   "cell_type": "code",
   "execution_count": 7,
   "id": "944af3cf",
   "metadata": {},
   "outputs": [],
   "source": [
    "una_funcion_con_un_grafo = tf.function(una_funcion_regular)"
   ]
  },
  {
   "cell_type": "code",
   "execution_count": 8,
   "id": "cab45572",
   "metadata": {},
   "outputs": [],
   "source": [
    "x1 = tf.constant([[1.0, 2.0]])\n",
    "y1 = tf.constant([[2.0], [3.0]])\n",
    "b1 = tf.constant(4.0)"
   ]
  },
  {
   "cell_type": "code",
   "execution_count": 9,
   "id": "b78f34fb",
   "metadata": {},
   "outputs": [],
   "source": [
    "valor_orig = una_funcion_regular(x1, y1, b1).numpy()"
   ]
  },
  {
   "cell_type": "code",
   "execution_count": 10,
   "id": "30899bc1",
   "metadata": {},
   "outputs": [],
   "source": [
    "valor_tf = una_funcion_con_un_grafo(x1, y1, b1).numpy()"
   ]
  },
  {
   "cell_type": "code",
   "execution_count": 11,
   "id": "989b63ba",
   "metadata": {},
   "outputs": [],
   "source": [
    "assert(valor_orig == valor_tf)"
   ]
  },
  {
   "cell_type": "markdown",
   "id": "306e5e13",
   "metadata": {},
   "source": [
    "`tf.function` aplica a una función, y todas las funciones que esa función llama."
   ]
  },
  {
   "cell_type": "code",
   "execution_count": 12,
   "id": "0ed94e69",
   "metadata": {},
   "outputs": [],
   "source": [
    "def funcion_interna(x, y, b):\n",
    "    x = tf.matmul(x, y)\n",
    "    x = x + b\n",
    "    return x"
   ]
  },
  {
   "cell_type": "code",
   "execution_count": 13,
   "id": "893832dd",
   "metadata": {},
   "outputs": [],
   "source": [
    "@tf.function\n",
    "def funcion_externa(x):\n",
    "    y = tf.constant([[2.0], [3.0]])\n",
    "    b = tf.constant(4.0)\n",
    "    \n",
    "    return funcion_interna(x, y, b)"
   ]
  },
  {
   "cell_type": "markdown",
   "id": "dd54249a",
   "metadata": {},
   "source": [
    "`tf.function` crea un gráfo que incluye las funciones `funcion_externa` y `funcion_interna`."
   ]
  },
  {
   "cell_type": "code",
   "execution_count": 14,
   "id": "e4544e7d",
   "metadata": {},
   "outputs": [
    {
     "data": {
      "text/plain": [
       "array([[12.]], dtype=float32)"
      ]
     },
     "execution_count": 14,
     "metadata": {},
     "output_type": "execute_result"
    }
   ],
   "source": [
    "funcion_externa(tf.constant([[1.0, 2.0]])).numpy()"
   ]
  },
  {
   "cell_type": "markdown",
   "id": "12fe2e7f",
   "metadata": {},
   "source": [
    "### Convirtiendo funciones de Python en gráfos"
   ]
  },
  {
   "cell_type": "markdown",
   "id": "651c4e45",
   "metadata": {},
   "source": [
    "Las partes de una función que son de Python necesitan un paso extra para su conversión en gráfos. `tf.function` utiliza una libreria que se llama *AutoGraph* (`tf.autograph`) para convertir código de Python en un código que genera gráfos."
   ]
  },
  {
   "cell_type": "code",
   "execution_count": 15,
   "id": "9f1272fc",
   "metadata": {},
   "outputs": [],
   "source": [
    "def relu_simple(x):\n",
    "    if tf.greater(x, 0):\n",
    "        return x\n",
    "    else:\n",
    "        return 0"
   ]
  },
  {
   "cell_type": "code",
   "execution_count": 16,
   "id": "08e6b05c",
   "metadata": {},
   "outputs": [],
   "source": [
    "tf_relu_simple = tf.function(relu_simple)"
   ]
  },
  {
   "cell_type": "code",
   "execution_count": 17,
   "id": "2ec7cb66",
   "metadata": {},
   "outputs": [
    {
     "name": "stdout",
     "output_type": "stream",
     "text": [
      "Primer rama, con gráfo: 1\n"
     ]
    }
   ],
   "source": [
    "print(\"Primer rama, con gráfo:\", tf_relu_simple(tf.constant(1)).numpy())"
   ]
  },
  {
   "cell_type": "code",
   "execution_count": 18,
   "id": "b4bf504a",
   "metadata": {},
   "outputs": [
    {
     "name": "stdout",
     "output_type": "stream",
     "text": [
      "Segunda rama, con gráfo: 0\n"
     ]
    }
   ],
   "source": [
    "print(\"Segunda rama, con gráfo:\", tf_relu_simple(tf.constant(-1)).numpy())"
   ]
  },
  {
   "cell_type": "markdown",
   "id": "d8c50607",
   "metadata": {},
   "source": [
    "Se puede inspeccionar el código producido por AutoGraph y los gráfos generados directamente:"
   ]
  },
  {
   "cell_type": "code",
   "execution_count": 20,
   "id": "155f650a",
   "metadata": {},
   "outputs": [
    {
     "name": "stdout",
     "output_type": "stream",
     "text": [
      "def tf__relu_simple(x):\n",
      "    with ag__.FunctionScope('relu_simple', 'fscope', ag__.ConversionOptions(recursive=True, user_requested=True, optional_features=(), internal_convert_user_code=True)) as fscope:\n",
      "        do_return = False\n",
      "        retval_ = ag__.UndefinedReturnValue()\n",
      "\n",
      "        def get_state():\n",
      "            return (do_return, retval_)\n",
      "\n",
      "        def set_state(vars_):\n",
      "            nonlocal do_return, retval_\n",
      "            (do_return, retval_) = vars_\n",
      "\n",
      "        def if_body():\n",
      "            nonlocal do_return, retval_\n",
      "            try:\n",
      "                do_return = True\n",
      "                retval_ = ag__.ld(x)\n",
      "            except:\n",
      "                do_return = False\n",
      "                raise\n",
      "\n",
      "        def else_body():\n",
      "            nonlocal do_return, retval_\n",
      "            try:\n",
      "                do_return = True\n",
      "                retval_ = 0\n",
      "            except:\n",
      "                do_return = False\n",
      "                raise\n",
      "        ag__.if_stmt(ag__.converted_call(ag__.ld(tf).greater, (ag__.ld(x), 0), None, fscope), if_body, else_body, get_state, set_state, ('do_return', 'retval_'), 2)\n",
      "        return fscope.ret(retval_, do_return)\n",
      "\n"
     ]
    }
   ],
   "source": [
    "print(tf.autograph.to_code(relu_simple))"
   ]
  },
  {
   "cell_type": "code",
   "execution_count": 21,
   "id": "c9d73ef9",
   "metadata": {},
   "outputs": [
    {
     "name": "stdout",
     "output_type": "stream",
     "text": [
      "node {\n",
      "  name: \"x\"\n",
      "  op: \"Placeholder\"\n",
      "  attr {\n",
      "    key: \"_user_specified_name\"\n",
      "    value {\n",
      "      s: \"x\"\n",
      "    }\n",
      "  }\n",
      "  attr {\n",
      "    key: \"dtype\"\n",
      "    value {\n",
      "      type: DT_INT32\n",
      "    }\n",
      "  }\n",
      "  attr {\n",
      "    key: \"shape\"\n",
      "    value {\n",
      "      shape {\n",
      "      }\n",
      "    }\n",
      "  }\n",
      "}\n",
      "node {\n",
      "  name: \"Greater/y\"\n",
      "  op: \"Const\"\n",
      "  attr {\n",
      "    key: \"dtype\"\n",
      "    value {\n",
      "      type: DT_INT32\n",
      "    }\n",
      "  }\n",
      "  attr {\n",
      "    key: \"value\"\n",
      "    value {\n",
      "      tensor {\n",
      "        dtype: DT_INT32\n",
      "        tensor_shape {\n",
      "        }\n",
      "        int_val: 0\n",
      "      }\n",
      "    }\n",
      "  }\n",
      "}\n",
      "node {\n",
      "  name: \"Greater\"\n",
      "  op: \"Greater\"\n",
      "  input: \"x\"\n",
      "  input: \"Greater/y\"\n",
      "  attr {\n",
      "    key: \"T\"\n",
      "    value {\n",
      "      type: DT_INT32\n",
      "    }\n",
      "  }\n",
      "}\n",
      "node {\n",
      "  name: \"cond\"\n",
      "  op: \"StatelessIf\"\n",
      "  input: \"Greater\"\n",
      "  input: \"x\"\n",
      "  attr {\n",
      "    key: \"Tcond\"\n",
      "    value {\n",
      "      type: DT_BOOL\n",
      "    }\n",
      "  }\n",
      "  attr {\n",
      "    key: \"Tin\"\n",
      "    value {\n",
      "      list {\n",
      "        type: DT_INT32\n",
      "      }\n",
      "    }\n",
      "  }\n",
      "  attr {\n",
      "    key: \"Tout\"\n",
      "    value {\n",
      "      list {\n",
      "        type: DT_BOOL\n",
      "        type: DT_INT32\n",
      "      }\n",
      "    }\n",
      "  }\n",
      "  attr {\n",
      "    key: \"_lower_using_switch_merge\"\n",
      "    value {\n",
      "      b: true\n",
      "    }\n",
      "  }\n",
      "  attr {\n",
      "    key: \"_read_only_resource_inputs\"\n",
      "    value {\n",
      "      list {\n",
      "      }\n",
      "    }\n",
      "  }\n",
      "  attr {\n",
      "    key: \"else_branch\"\n",
      "    value {\n",
      "      func {\n",
      "        name: \"cond_false_36\"\n",
      "      }\n",
      "    }\n",
      "  }\n",
      "  attr {\n",
      "    key: \"output_shapes\"\n",
      "    value {\n",
      "      list {\n",
      "        shape {\n",
      "        }\n",
      "        shape {\n",
      "        }\n",
      "      }\n",
      "    }\n",
      "  }\n",
      "  attr {\n",
      "    key: \"then_branch\"\n",
      "    value {\n",
      "      func {\n",
      "        name: \"cond_true_35\"\n",
      "      }\n",
      "    }\n",
      "  }\n",
      "}\n",
      "node {\n",
      "  name: \"cond/Identity\"\n",
      "  op: \"Identity\"\n",
      "  input: \"cond\"\n",
      "  attr {\n",
      "    key: \"T\"\n",
      "    value {\n",
      "      type: DT_BOOL\n",
      "    }\n",
      "  }\n",
      "}\n",
      "node {\n",
      "  name: \"cond/Identity_1\"\n",
      "  op: \"Identity\"\n",
      "  input: \"cond:1\"\n",
      "  attr {\n",
      "    key: \"T\"\n",
      "    value {\n",
      "      type: DT_INT32\n",
      "    }\n",
      "  }\n",
      "}\n",
      "node {\n",
      "  name: \"Identity\"\n",
      "  op: \"Identity\"\n",
      "  input: \"cond/Identity_1\"\n",
      "  attr {\n",
      "    key: \"T\"\n",
      "    value {\n",
      "      type: DT_INT32\n",
      "    }\n",
      "  }\n",
      "}\n",
      "library {\n",
      "  function {\n",
      "    signature {\n",
      "      name: \"cond_true_35\"\n",
      "      input_arg {\n",
      "        name: \"cond_identity_1_x\"\n",
      "        type: DT_INT32\n",
      "      }\n",
      "      output_arg {\n",
      "        name: \"cond_identity\"\n",
      "        type: DT_BOOL\n",
      "      }\n",
      "      output_arg {\n",
      "        name: \"cond_identity_1\"\n",
      "        type: DT_INT32\n",
      "      }\n",
      "    }\n",
      "    node_def {\n",
      "      name: \"cond/Const\"\n",
      "      op: \"Const\"\n",
      "      attr {\n",
      "        key: \"dtype\"\n",
      "        value {\n",
      "          type: DT_BOOL\n",
      "        }\n",
      "      }\n",
      "      attr {\n",
      "        key: \"value\"\n",
      "        value {\n",
      "          tensor {\n",
      "            dtype: DT_BOOL\n",
      "            tensor_shape {\n",
      "            }\n",
      "            bool_val: true\n",
      "          }\n",
      "        }\n",
      "      }\n",
      "    }\n",
      "    node_def {\n",
      "      name: \"cond/Identity\"\n",
      "      op: \"Identity\"\n",
      "      input: \"cond/Const:output:0\"\n",
      "      attr {\n",
      "        key: \"T\"\n",
      "        value {\n",
      "          type: DT_BOOL\n",
      "        }\n",
      "      }\n",
      "    }\n",
      "    node_def {\n",
      "      name: \"cond/Identity_1\"\n",
      "      op: \"Identity\"\n",
      "      input: \"cond_identity_1_x\"\n",
      "      attr {\n",
      "        key: \"T\"\n",
      "        value {\n",
      "          type: DT_INT32\n",
      "        }\n",
      "      }\n",
      "    }\n",
      "    ret {\n",
      "      key: \"cond_identity\"\n",
      "      value: \"cond/Identity:output:0\"\n",
      "    }\n",
      "    ret {\n",
      "      key: \"cond_identity_1\"\n",
      "      value: \"cond/Identity_1:output:0\"\n",
      "    }\n",
      "    attr {\n",
      "      key: \"_construction_context\"\n",
      "      value {\n",
      "        s: \"kEagerRuntime\"\n",
      "      }\n",
      "    }\n",
      "    arg_attr {\n",
      "      key: 0\n",
      "      value {\n",
      "        attr {\n",
      "          key: \"_output_shapes\"\n",
      "          value {\n",
      "            list {\n",
      "              shape {\n",
      "              }\n",
      "            }\n",
      "          }\n",
      "        }\n",
      "        attr {\n",
      "          key: \"_user_specified_name\"\n",
      "          value {\n",
      "            s: \"x\"\n",
      "          }\n",
      "        }\n",
      "      }\n",
      "    }\n",
      "  }\n",
      "  function {\n",
      "    signature {\n",
      "      name: \"cond_false_36\"\n",
      "      input_arg {\n",
      "        name: \"cond_placeholder\"\n",
      "        type: DT_INT32\n",
      "      }\n",
      "      output_arg {\n",
      "        name: \"cond_identity\"\n",
      "        type: DT_BOOL\n",
      "      }\n",
      "      output_arg {\n",
      "        name: \"cond_identity_1\"\n",
      "        type: DT_INT32\n",
      "      }\n",
      "    }\n",
      "    node_def {\n",
      "      name: \"cond/Const\"\n",
      "      op: \"Const\"\n",
      "      attr {\n",
      "        key: \"dtype\"\n",
      "        value {\n",
      "          type: DT_BOOL\n",
      "        }\n",
      "      }\n",
      "      attr {\n",
      "        key: \"value\"\n",
      "        value {\n",
      "          tensor {\n",
      "            dtype: DT_BOOL\n",
      "            tensor_shape {\n",
      "            }\n",
      "            bool_val: true\n",
      "          }\n",
      "        }\n",
      "      }\n",
      "    }\n",
      "    node_def {\n",
      "      name: \"cond/Const_1\"\n",
      "      op: \"Const\"\n",
      "      attr {\n",
      "        key: \"dtype\"\n",
      "        value {\n",
      "          type: DT_BOOL\n",
      "        }\n",
      "      }\n",
      "      attr {\n",
      "        key: \"value\"\n",
      "        value {\n",
      "          tensor {\n",
      "            dtype: DT_BOOL\n",
      "            tensor_shape {\n",
      "            }\n",
      "            bool_val: true\n",
      "          }\n",
      "        }\n",
      "      }\n",
      "    }\n",
      "    node_def {\n",
      "      name: \"cond/Const_2\"\n",
      "      op: \"Const\"\n",
      "      attr {\n",
      "        key: \"dtype\"\n",
      "        value {\n",
      "          type: DT_INT32\n",
      "        }\n",
      "      }\n",
      "      attr {\n",
      "        key: \"value\"\n",
      "        value {\n",
      "          tensor {\n",
      "            dtype: DT_INT32\n",
      "            tensor_shape {\n",
      "            }\n",
      "            int_val: 0\n",
      "          }\n",
      "        }\n",
      "      }\n",
      "    }\n",
      "    node_def {\n",
      "      name: \"cond/Const_3\"\n",
      "      op: \"Const\"\n",
      "      attr {\n",
      "        key: \"dtype\"\n",
      "        value {\n",
      "          type: DT_BOOL\n",
      "        }\n",
      "      }\n",
      "      attr {\n",
      "        key: \"value\"\n",
      "        value {\n",
      "          tensor {\n",
      "            dtype: DT_BOOL\n",
      "            tensor_shape {\n",
      "            }\n",
      "            bool_val: true\n",
      "          }\n",
      "        }\n",
      "      }\n",
      "    }\n",
      "    node_def {\n",
      "      name: \"cond/Identity\"\n",
      "      op: \"Identity\"\n",
      "      input: \"cond/Const_3:output:0\"\n",
      "      attr {\n",
      "        key: \"T\"\n",
      "        value {\n",
      "          type: DT_BOOL\n",
      "        }\n",
      "      }\n",
      "    }\n",
      "    node_def {\n",
      "      name: \"cond/Const_4\"\n",
      "      op: \"Const\"\n",
      "      attr {\n",
      "        key: \"dtype\"\n",
      "        value {\n",
      "          type: DT_INT32\n",
      "        }\n",
      "      }\n",
      "      attr {\n",
      "        key: \"value\"\n",
      "        value {\n",
      "          tensor {\n",
      "            dtype: DT_INT32\n",
      "            tensor_shape {\n",
      "            }\n",
      "            int_val: 0\n",
      "          }\n",
      "        }\n",
      "      }\n",
      "    }\n",
      "    node_def {\n",
      "      name: \"cond/Identity_1\"\n",
      "      op: \"Identity\"\n",
      "      input: \"cond/Const_4:output:0\"\n",
      "      attr {\n",
      "        key: \"T\"\n",
      "        value {\n",
      "          type: DT_INT32\n",
      "        }\n",
      "      }\n",
      "    }\n",
      "    ret {\n",
      "      key: \"cond_identity\"\n",
      "      value: \"cond/Identity:output:0\"\n",
      "    }\n",
      "    ret {\n",
      "      key: \"cond_identity_1\"\n",
      "      value: \"cond/Identity_1:output:0\"\n",
      "    }\n",
      "    attr {\n",
      "      key: \"_construction_context\"\n",
      "      value {\n",
      "        s: \"kEagerRuntime\"\n",
      "      }\n",
      "    }\n",
      "    arg_attr {\n",
      "      key: 0\n",
      "      value {\n",
      "        attr {\n",
      "          key: \"_output_shapes\"\n",
      "          value {\n",
      "            list {\n",
      "              shape {\n",
      "              }\n",
      "            }\n",
      "          }\n",
      "        }\n",
      "      }\n",
      "    }\n",
      "  }\n",
      "}\n",
      "versions {\n",
      "  producer: 1482\n",
      "  min_consumer: 12\n",
      "}\n",
      "\n"
     ]
    }
   ],
   "source": [
    "print(tf_relu_simple.get_concrete_function(tf.constant(1)).graph.as_graph_def())"
   ]
  },
  {
   "cell_type": "markdown",
   "id": "2d08df61",
   "metadata": {},
   "source": [
    "### Polimorfismo: una `Function`, muchos gráfos"
   ]
  },
  {
   "cell_type": "markdown",
   "id": "b4447ebf",
   "metadata": {},
   "source": [
    "Un gráfo `tf.Graph` está especializado a entradas específicas (tensores de `dtype` específicos, objetos con el mismo `id()`)."
   ]
  },
  {
   "cell_type": "markdown",
   "id": "6395a01c",
   "metadata": {},
   "source": [
    "Cuando se invoca una `Function` con argumentos que no corresponden a un gráfo que ya existe (otros `dtype`, formas distintas) `Function` crea un nuevo gráfo `tf.Graph` especializado a los nuevos argumentos.\n",
    "\n",
    "La especificación de las entradas a un gráfo `tf.Graph` se denomina su **signatura**.\n",
    "\n",
    "La `Function` guarda el `tf.Graph` que corresponde a una signatura en una `ConcreteFunction` (una evoltura alrededor de un `tf.Graph`)."
   ]
  },
  {
   "cell_type": "code",
   "execution_count": 28,
   "id": "acecbc05",
   "metadata": {},
   "outputs": [],
   "source": [
    "@tf.function\n",
    "def mi_relu(x):\n",
    "    return tf.maximum(0., x)"
   ]
  },
  {
   "cell_type": "code",
   "execution_count": 29,
   "id": "e00c0207",
   "metadata": {},
   "outputs": [
    {
     "name": "stdout",
     "output_type": "stream",
     "text": [
      "tf.Tensor(5.5, shape=(), dtype=float32)\n"
     ]
    }
   ],
   "source": [
    "print(mi_relu(tf.constant(5.5)))"
   ]
  },
  {
   "cell_type": "code",
   "execution_count": 30,
   "id": "927c3547",
   "metadata": {},
   "outputs": [
    {
     "name": "stdout",
     "output_type": "stream",
     "text": [
      "tf.Tensor([1. 0.], shape=(2,), dtype=float32)\n"
     ]
    }
   ],
   "source": [
    "print(mi_relu([1, -1])) #Nuevo gráfo creado"
   ]
  },
  {
   "cell_type": "markdown",
   "id": "54769f30",
   "metadata": {},
   "source": [
    "En el caso abajo la signatura ya existe, así que no crea un nuevo gráfo."
   ]
  },
  {
   "cell_type": "code",
   "execution_count": 31,
   "id": "a3f69290",
   "metadata": {},
   "outputs": [
    {
     "name": "stdout",
     "output_type": "stream",
     "text": [
      "tf.Tensor([3. 0.], shape=(2,), dtype=float32)\n"
     ]
    }
   ],
   "source": [
    "print(mi_relu(tf.constant([3., -3.])))"
   ]
  },
  {
   "cell_type": "markdown",
   "id": "2907701a",
   "metadata": {},
   "source": [
    "Una `Function` es **poliformica** ya que está respaldada por varios gráfos. Así puede apoyar más tipos de entradas que un sólo gráfo y puede optimizar cada `tf.Graph` para mejor rendimiento."
   ]
  },
  {
   "cell_type": "code",
   "execution_count": 32,
   "id": "e113075a",
   "metadata": {},
   "outputs": [
    {
     "name": "stdout",
     "output_type": "stream",
     "text": [
      "mi_relu(x)\n",
      "  Args:\n",
      "    x: float32 Tensor, shape=()\n",
      "  Returns:\n",
      "    float32 Tensor, shape=()\n",
      "\n",
      "mi_relu(x=[1, -1])\n",
      "  Returns:\n",
      "    float32 Tensor, shape=(2,)\n",
      "\n",
      "mi_relu(x)\n",
      "  Args:\n",
      "    x: float32 Tensor, shape=(2,)\n",
      "  Returns:\n",
      "    float32 Tensor, shape=(2,)\n"
     ]
    }
   ],
   "source": [
    "print(mi_relu.pretty_printed_concrete_signatures())"
   ]
  },
  {
   "cell_type": "markdown",
   "id": "db3a9213",
   "metadata": {},
   "source": [
    "## Ocupando `tf.function`"
   ]
  },
  {
   "cell_type": "markdown",
   "id": "850a430c",
   "metadata": {},
   "source": [
    "En la práctica, puede ser difícil asegurando que `tf.function` funcione correctamente."
   ]
  },
  {
   "cell_type": "markdown",
   "id": "3399ce1d",
   "metadata": {},
   "source": [
    "### *Graph execution* vs. *Eager execution*"
   ]
  },
  {
   "cell_type": "markdown",
   "id": "b259eb51",
   "metadata": {},
   "source": [
    "El código en una `Function` se puede ejecutar en modo *eager* o como un gráfo. Por defecto, `Function` ejecuta su código como un gráfo."
   ]
  },
  {
   "cell_type": "code",
   "execution_count": 33,
   "id": "53f3d7a1",
   "metadata": {},
   "outputs": [],
   "source": [
    "@tf.function\n",
    "def error_promedio_cuadrado(y_verdad, y_pred):\n",
    "    dif_cuad = tf.pow(y_verdad - y_pred, 2)\n",
    "    return tf.reduce_mean(dif_cuad)"
   ]
  },
  {
   "cell_type": "code",
   "execution_count": 34,
   "id": "8990fefc",
   "metadata": {},
   "outputs": [],
   "source": [
    "y_verdad = tf.random.uniform([5], maxval=10, dtype=tf.int32)\n",
    "y_pred   = tf.random.uniform([5], maxval=10, dtype=tf.int32)"
   ]
  },
  {
   "cell_type": "code",
   "execution_count": 35,
   "id": "832e43fe",
   "metadata": {},
   "outputs": [
    {
     "name": "stdout",
     "output_type": "stream",
     "text": [
      "tf.Tensor([8 9 7 7 1], shape=(5,), dtype=int32)\n"
     ]
    }
   ],
   "source": [
    "print(y_verdad)"
   ]
  },
  {
   "cell_type": "code",
   "execution_count": 36,
   "id": "4156acb6",
   "metadata": {},
   "outputs": [
    {
     "name": "stdout",
     "output_type": "stream",
     "text": [
      "tf.Tensor([0 2 9 7 4], shape=(5,), dtype=int32)\n"
     ]
    }
   ],
   "source": [
    "print(y_pred)"
   ]
  },
  {
   "cell_type": "code",
   "execution_count": 37,
   "id": "e915a83a",
   "metadata": {},
   "outputs": [
    {
     "data": {
      "text/plain": [
       "<tf.Tensor: shape=(), dtype=int32, numpy=25>"
      ]
     },
     "execution_count": 37,
     "metadata": {},
     "output_type": "execute_result"
    }
   ],
   "source": [
    "error_promedio_cuadrado(y_verdad, y_pred)"
   ]
  },
  {
   "cell_type": "markdown",
   "id": "564c398b",
   "metadata": {},
   "source": [
    "Para verificar que el gráfo de la `Function` está realizando el mismo cómputo que su función equivalente de Python, se puede ejecutarlo en modo *eager* con `tf.config.run_functions_eagerly(True)`. Este desactiva la capacidad de la `Function` crear y correr gráfos."
   ]
  },
  {
   "cell_type": "code",
   "execution_count": 38,
   "id": "57f2bf63",
   "metadata": {},
   "outputs": [],
   "source": [
    "tf.config.run_functions_eagerly(True)"
   ]
  },
  {
   "cell_type": "code",
   "execution_count": 39,
   "id": "00a22708",
   "metadata": {},
   "outputs": [
    {
     "data": {
      "text/plain": [
       "<tf.Tensor: shape=(), dtype=int32, numpy=25>"
      ]
     },
     "execution_count": 39,
     "metadata": {},
     "output_type": "execute_result"
    }
   ],
   "source": [
    "error_promedio_cuadrado(y_verdad, y_pred)"
   ]
  },
  {
   "cell_type": "markdown",
   "id": "248b4473",
   "metadata": {},
   "source": [
    "Se puede activar ejecución de gráfos después."
   ]
  },
  {
   "cell_type": "code",
   "execution_count": 40,
   "id": "2f7b3b6e",
   "metadata": {},
   "outputs": [],
   "source": [
    "tf.config.run_functions_eagerly(False)"
   ]
  },
  {
   "cell_type": "markdown",
   "id": "a2a20362",
   "metadata": {},
   "source": [
    "A veces `Function` tiene un comportamiento distinto en modos *eager* y gráfo. Por ejemplo, la función `print` de Python:"
   ]
  },
  {
   "cell_type": "code",
   "execution_count": 41,
   "id": "b8bc7a99",
   "metadata": {},
   "outputs": [],
   "source": [
    "@tf.function\n",
    "def error_medio_cuadrado(y_verdad, y_pred):\n",
    "    print(\"Calculando EMC!\")\n",
    "    dif_cuad = tf.pow(y_verdad - y_pred, 2)\n",
    "    return tf.reduce_mean(dif_cuad)"
   ]
  },
  {
   "cell_type": "code",
   "execution_count": 42,
   "id": "ce59e8f6",
   "metadata": {},
   "outputs": [
    {
     "name": "stdout",
     "output_type": "stream",
     "text": [
      "Calculando EMC!\n"
     ]
    }
   ],
   "source": [
    "err = error_medio_cuadrado(y_verdad, y_pred)"
   ]
  },
  {
   "cell_type": "code",
   "execution_count": 43,
   "id": "5e62df28",
   "metadata": {},
   "outputs": [],
   "source": [
    "err = error_medio_cuadrado(y_verdad, y_pred)"
   ]
  },
  {
   "cell_type": "code",
   "execution_count": 44,
   "id": "22ee4bc2",
   "metadata": {},
   "outputs": [],
   "source": [
    "err = error_medio_cuadrado(y_verdad, y_pred)"
   ]
  },
  {
   "cell_type": "markdown",
   "id": "609013eb",
   "metadata": {},
   "source": [
    "El mensaje fue imprimido solamente una vez, a pesar de llamar a la función $3$ veces.\n",
    "\n",
    "El `print` está ejecutado cuando `Function` corre el código original para crear el gráfo en un proceso conocido como *tracing* (trazamiento).\n",
    "\n",
    "Trazamiento capta las operaciones en un gráfo, y `print` no está capturado en el gráfo. Después, el gráfo corre sin usar el código de Python."
   ]
  },
  {
   "cell_type": "code",
   "execution_count": 45,
   "id": "bd4eff1e",
   "metadata": {},
   "outputs": [],
   "source": [
    "tf.config.run_functions_eagerly(True)"
   ]
  },
  {
   "cell_type": "code",
   "execution_count": 46,
   "id": "ca9fa091",
   "metadata": {},
   "outputs": [
    {
     "name": "stdout",
     "output_type": "stream",
     "text": [
      "Calculando EMC!\n"
     ]
    }
   ],
   "source": [
    "err = error_medio_cuadrado(y_verdad, y_pred)"
   ]
  },
  {
   "cell_type": "code",
   "execution_count": 47,
   "id": "d610e7a8",
   "metadata": {},
   "outputs": [
    {
     "name": "stdout",
     "output_type": "stream",
     "text": [
      "Calculando EMC!\n"
     ]
    }
   ],
   "source": [
    "err = error_medio_cuadrado(y_verdad, y_pred)"
   ]
  },
  {
   "cell_type": "code",
   "execution_count": 48,
   "id": "3dba6ea5",
   "metadata": {},
   "outputs": [
    {
     "name": "stdout",
     "output_type": "stream",
     "text": [
      "Calculando EMC!\n"
     ]
    }
   ],
   "source": [
    "err = error_medio_cuadrado(y_verdad, y_pred)"
   ]
  },
  {
   "cell_type": "code",
   "execution_count": 49,
   "id": "08124e9b",
   "metadata": {},
   "outputs": [],
   "source": [
    "tf.config.run_functions_eagerly(False)"
   ]
  },
  {
   "cell_type": "markdown",
   "id": "9686aa3d",
   "metadata": {},
   "source": [
    "`print` es un efecto secundario de Python. Hay otras limitaciones en la conversión de funciones a una `Function`. Se puede leer más en la [documentación](https://www.tensorflow.org/guide/function)."
   ]
  },
  {
   "cell_type": "markdown",
   "id": "54e68fe0",
   "metadata": {},
   "source": [
    "### Ejecución no-estricta"
   ]
  },
  {
   "cell_type": "markdown",
   "id": "138bd054",
   "metadata": {},
   "source": [
    "En el gráfo solamente las operaciones necesarias para producir los efectos observables están ejecutadas, por ejemplo:\n",
    "\n",
    "* El valor de retorno de la función\n",
    "\n",
    "\n",
    "* Efectos secundarios muy bien conocidos:\n",
    "    * Operaciones de entrada/salida, e.g. `tf.print`\n",
    "    * Operaciones de *debugging*\n",
    "    * Mutaciones de `tf.Variable`\n",
    "    \n",
    "Este se llama **ejecución no estricta** (*non-strict execution*). En modo *eager*, todas las operaciones se ejecutan.\n",
    "\n",
    "Hay operaciones que no estarán incluidas en el gráfo porque no producen efectos obervables (por ejemplo, checkeo de errores)."
   ]
  },
  {
   "cell_type": "code",
   "execution_count": 50,
   "id": "93f56719",
   "metadata": {},
   "outputs": [],
   "source": [
    "def retorno_no_usado_eager(x):\n",
    "    tf.gather(x, [1]) # No usado\n",
    "    return x"
   ]
  },
  {
   "cell_type": "code",
   "execution_count": 55,
   "id": "245858cf",
   "metadata": {},
   "outputs": [],
   "source": [
    "tf.gather?"
   ]
  },
  {
   "cell_type": "code",
   "execution_count": 52,
   "id": "7bc957cc",
   "metadata": {},
   "outputs": [
    {
     "name": "stdout",
     "output_type": "stream",
     "text": [
      "InvalidArgumentError: {{function_node __wrapped__GatherV2_device_/job:localhost/replica:0/task:0/device:CPU:0}} indices[0] = 1 is not in [0, 1) [Op:GatherV2]\n"
     ]
    }
   ],
   "source": [
    "try:\n",
    "    # Pasamos un tensor con un solo elemento, pero el \"gather\" en la\n",
    "    # función busca el valor con elemento [1]\n",
    "    print(retorno_no_usado_eager(tf.constant([0.0])))\n",
    "except tf.errors.InvalidArgumentError as e:\n",
    "    print(f'{type(e).__name__}: {e}')"
   ]
  },
  {
   "cell_type": "code",
   "execution_count": 53,
   "id": "2d520bad",
   "metadata": {},
   "outputs": [],
   "source": [
    "@tf.function\n",
    "def retorno_no_usado_grafo(x):\n",
    "    tf.gather(x, [1]) # No usado\n",
    "    return x"
   ]
  },
  {
   "cell_type": "code",
   "execution_count": 54,
   "id": "faf7966c",
   "metadata": {},
   "outputs": [
    {
     "name": "stdout",
     "output_type": "stream",
     "text": [
      "tf.Tensor([0.], shape=(1,), dtype=float32)\n"
     ]
    }
   ],
   "source": [
    "print(retorno_no_usado_grafo(tf.constant([0.0])))"
   ]
  },
  {
   "cell_type": "markdown",
   "id": "794ac2d3",
   "metadata": {},
   "source": [
    "### Mejores prácticas con `tf.function`"
   ]
  },
  {
   "cell_type": "markdown",
   "id": "f7955f06",
   "metadata": {},
   "source": [
    "* Intercambiar entre modo *eager* y gráfo durante el desarrollo del código con `tf.config.run_functions_eagerly` para identificar diferencias entre los modos.\n",
    "\n",
    "\n",
    "* Crear `tf.Variable`s fuera de la función de Python y modificarlas dentro. Lo mismo para objetos que ocupan `tf.Variable`, como `tf.keras.layers`, `tf.keras.Model` y `tf.keras.optimizers`.\n",
    "\n",
    "\n",
    "* Evitar escribir funciones que dependen de variables externas de Python (aparte de `tf.Variable` y objetos de Keras).\n",
    "\n",
    "\n",
    "* Es mejor escribir funciones que toman tensores y tipos de TensorFlow como entradas.\n",
    "\n",
    "\n",
    "* Incluir el mayor porcentaje posible de los cálculos del modelo dentro de un `tf.function` para maximizar el rendimiento."
   ]
  },
  {
   "cell_type": "markdown",
   "id": "d362a784",
   "metadata": {},
   "source": [
    "### Acelerando un código"
   ]
  },
  {
   "cell_type": "markdown",
   "id": "7b66dd96",
   "metadata": {},
   "source": [
    "`tf.function` típicamente mejora el rendimiento del código, pero por cuanto va a depender del tipo de cálculo. Cálculos pequeños probablemente estarán limitados por el costo de llamar al gráfo."
   ]
  },
  {
   "cell_type": "code",
   "execution_count": 22,
   "id": "db3fb025",
   "metadata": {},
   "outputs": [],
   "source": [
    "x = tf.random.uniform(shape=[10, 10], minval=-1, maxval=2, dtype=tf.dtypes.int32)"
   ]
  },
  {
   "cell_type": "code",
   "execution_count": 27,
   "id": "70bf781d",
   "metadata": {},
   "outputs": [],
   "source": [
    "def potencia(x, y):\n",
    "    resultado = tf.eye(10, dtype=tf.dtypes.int32)\n",
    "    for _ in range(y):\n",
    "        resultado = tf.matmul(x, result)\n",
    "    return resultado"
   ]
  },
  {
   "cell_type": "code",
   "execution_count": 24,
   "id": "95a74088",
   "metadata": {},
   "outputs": [
    {
     "name": "stdout",
     "output_type": "stream",
     "text": [
      "Eager:  5.150919185995008 seconds\n"
     ]
    }
   ],
   "source": [
    "print(\"Eager: \", timeit.timeit(lambda: potencia(x, 100), number=1000), \"seconds\")"
   ]
  },
  {
   "cell_type": "code",
   "execution_count": 25,
   "id": "651eeb82",
   "metadata": {},
   "outputs": [],
   "source": [
    "potencia_como_grafo = tf.function(power)"
   ]
  },
  {
   "cell_type": "code",
   "execution_count": 26,
   "id": "b81b64ad",
   "metadata": {},
   "outputs": [
    {
     "name": "stdout",
     "output_type": "stream",
     "text": [
      "Gráfo:  0.8541581010067603 seconds\n"
     ]
    }
   ],
   "source": [
    "print(\"Gráfo: \", timeit.timeit(lambda: potencia_como_grafo(x, 100), number=1000), \"seconds\")"
   ]
  },
  {
   "cell_type": "markdown",
   "id": "e086d475",
   "metadata": {},
   "source": [
    "## Determinar cuando hay trazamiento de una `Function` "
   ]
  },
  {
   "cell_type": "markdown",
   "id": "42db3397",
   "metadata": {},
   "source": [
    "Se puede considerar trazamiento (*tracing*) de una función como su **compilación** por primera vez. Es mejor reducir el número de veces que este ocurre, para mejorar el rendimiento.\n",
    "\n",
    "Se puede determinar cuando está pasando con el uso de un `print` en el código. Generalmente, el `print` se ejecuta cada vez que hay trazamiento de la función."
   ]
  },
  {
   "cell_type": "code",
   "execution_count": 56,
   "id": "2f10a064",
   "metadata": {},
   "outputs": [],
   "source": [
    "@tf.function\n",
    "def funcion_con_efectos_secundarios_de_python(x):\n",
    "    print(\"Trazamiento!\")\n",
    "    return x * x + tf.constant(2)"
   ]
  },
  {
   "cell_type": "code",
   "execution_count": 57,
   "id": "efc86d8c",
   "metadata": {},
   "outputs": [
    {
     "name": "stdout",
     "output_type": "stream",
     "text": [
      "Trazamiento!\n",
      "tf.Tensor(6, shape=(), dtype=int32)\n"
     ]
    }
   ],
   "source": [
    "print(funcion_con_efectos_secundarios_de_python(tf.constant(2)))"
   ]
  },
  {
   "cell_type": "code",
   "execution_count": 58,
   "id": "076db0f8",
   "metadata": {},
   "outputs": [
    {
     "name": "stdout",
     "output_type": "stream",
     "text": [
      "tf.Tensor(11, shape=(), dtype=int32)\n"
     ]
    }
   ],
   "source": [
    "print(funcion_con_efectos_secundarios_de_python(tf.constant(3)))"
   ]
  },
  {
   "cell_type": "markdown",
   "id": "fa8c880c",
   "metadata": {},
   "source": [
    "Hay *retracing* cada vez cambiamos el argumento si es un tipo de Python."
   ]
  },
  {
   "cell_type": "code",
   "execution_count": 59,
   "id": "e3ecee6b",
   "metadata": {},
   "outputs": [
    {
     "name": "stdout",
     "output_type": "stream",
     "text": [
      "Trazamiento!\n",
      "tf.Tensor(6, shape=(), dtype=int32)\n"
     ]
    }
   ],
   "source": [
    "print(funcion_con_efectos_secundarios_de_python(2))"
   ]
  },
  {
   "cell_type": "code",
   "execution_count": 60,
   "id": "a2dabae6",
   "metadata": {},
   "outputs": [
    {
     "name": "stdout",
     "output_type": "stream",
     "text": [
      "Trazamiento!\n",
      "tf.Tensor(11, shape=(), dtype=int32)\n"
     ]
    }
   ],
   "source": [
    "print(funcion_con_efectos_secundarios_de_python(3))"
   ]
  },
  {
   "cell_type": "code",
   "execution_count": null,
   "id": "936a81e1",
   "metadata": {},
   "outputs": [],
   "source": []
  }
 ],
 "metadata": {
  "kernelspec": {
   "display_name": "Python 3 (ipykernel)",
   "language": "python",
   "name": "python3"
  },
  "language_info": {
   "codemirror_mode": {
    "name": "ipython",
    "version": 3
   },
   "file_extension": ".py",
   "mimetype": "text/x-python",
   "name": "python",
   "nbconvert_exporter": "python",
   "pygments_lexer": "ipython3",
   "version": "3.9.17"
  }
 },
 "nbformat": 4,
 "nbformat_minor": 5
}
