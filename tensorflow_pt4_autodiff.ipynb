{
 "cells": [
  {
   "cell_type": "markdown",
   "id": "031a61cf",
   "metadata": {},
   "source": [
    "# TensorFlow Parte IV - Derivación Automática"
   ]
  },
  {
   "cell_type": "code",
   "execution_count": 1,
   "id": "127a2a89",
   "metadata": {},
   "outputs": [
    {
     "name": "stderr",
     "output_type": "stream",
     "text": [
      "2023-09-08 12:55:42.111766: I tensorflow/core/platform/cpu_feature_guard.cc:182] This TensorFlow binary is optimized to use available CPU instructions in performance-critical operations.\n",
      "To enable the following instructions: AVX2 FMA, in other operations, rebuild TensorFlow with the appropriate compiler flags.\n",
      "2023-09-08 12:55:42.877886: W tensorflow/compiler/tf2tensorrt/utils/py_utils.cc:38] TF-TRT Warning: Could not find TensorRT\n"
     ]
    }
   ],
   "source": [
    "import numpy as np\n",
    "import matplotlib.pyplot as plt\n",
    "\n",
    "import tensorflow as tf"
   ]
  },
  {
   "cell_type": "markdown",
   "id": "8c633420",
   "metadata": {},
   "source": [
    "## Cintas de gradientes (*gradient tapes*)"
   ]
  },
  {
   "cell_type": "markdown",
   "id": "1c06b423",
   "metadata": {},
   "source": [
    "TensorFlow provee el API `tf.GradientTape` para derivación automática. TensorFlow puede \"grabar\" las operaciones relevantes ejecutadas dentro del contexto de un `tf.GradientTape` en una \"cinta\". Después, ocupa esa cinta para calcular los gradientes del cómputo \"grabado\" con derivación en modo hacia atrás (*reverse mode*)."
   ]
  },
  {
   "cell_type": "code",
   "execution_count": 2,
   "id": "9740428f",
   "metadata": {},
   "outputs": [
    {
     "name": "stderr",
     "output_type": "stream",
     "text": [
      "2023-09-08 13:07:08.357120: I tensorflow/compiler/xla/stream_executor/cuda/cuda_gpu_executor.cc:995] successful NUMA node read from SysFS had negative value (-1), but there must be at least one NUMA node, so returning NUMA node zero. See more at https://github.com/torvalds/linux/blob/v6.0/Documentation/ABI/testing/sysfs-bus-pci#L344-L355\n",
      "2023-09-08 13:07:08.364663: W tensorflow/core/common_runtime/gpu/gpu_device.cc:1960] Cannot dlopen some GPU libraries. Please make sure the missing libraries mentioned above are installed properly if you would like to use GPU. Follow the guide at https://www.tensorflow.org/install/gpu for how to download and setup the required libraries for your platform.\n",
      "Skipping registering GPU devices...\n"
     ]
    }
   ],
   "source": [
    "x = tf.Variable(3.0)"
   ]
  },
  {
   "cell_type": "code",
   "execution_count": 3,
   "id": "6157c012",
   "metadata": {},
   "outputs": [],
   "source": [
    "with tf.GradientTape() as tape:\n",
    "    y = x**2"
   ]
  },
  {
   "cell_type": "markdown",
   "id": "b2192d91",
   "metadata": {},
   "source": [
    "Después de grabar las operaciones con la cinta, podemos usar `GradientTape.gradient(función, variable)` para derivar:"
   ]
  },
  {
   "cell_type": "code",
   "execution_count": 4,
   "id": "3b785f8a",
   "metadata": {},
   "outputs": [],
   "source": [
    "dy_dx = tape.gradient(y, x)"
   ]
  },
  {
   "cell_type": "code",
   "execution_count": 5,
   "id": "ef7432ef",
   "metadata": {},
   "outputs": [
    {
     "data": {
      "text/plain": [
       "6.0"
      ]
     },
     "execution_count": 5,
     "metadata": {},
     "output_type": "execute_result"
    }
   ],
   "source": [
    "dy_dx.numpy()"
   ]
  },
  {
   "cell_type": "markdown",
   "id": "a3a2506b",
   "metadata": {},
   "source": [
    "Ele ejemplo arriba es con escalares, pero podemos usar cualquier tensor:"
   ]
  },
  {
   "cell_type": "code",
   "execution_count": 6,
   "id": "80633592",
   "metadata": {},
   "outputs": [],
   "source": [
    "w = tf.Variable(tf.random.normal((3, 2)), name='w')\n",
    "b = tf.Variable(tf.zeros(2, dtype=tf.float32), name='b')"
   ]
  },
  {
   "cell_type": "code",
   "execution_count": 7,
   "id": "dc453aaa",
   "metadata": {},
   "outputs": [],
   "source": [
    "x = [[1., 2., 3.]]"
   ]
  },
  {
   "cell_type": "code",
   "execution_count": 11,
   "id": "b0583251",
   "metadata": {},
   "outputs": [],
   "source": [
    "with tf.GradientTape(persistent=True) as tape:\n",
    "    y = x @ w + b\n",
    "    perdida = tf.reduce_mean(y**2)"
   ]
  },
  {
   "cell_type": "markdown",
   "id": "c6c1ab22",
   "metadata": {},
   "source": [
    "Para obtener el gradiente de `perdida` con respecto a ambas variables podemos pasar ambas como \"fuentes\" al método `gradient`. A la cinta no le importa como pasamos las \"fuentes\": puede ser cualquier combinación anidada de listas o diccionarios, y devolverá los gradientes con la misma estructura."
   ]
  },
  {
   "cell_type": "code",
   "execution_count": 12,
   "id": "8188a81d",
   "metadata": {},
   "outputs": [],
   "source": [
    "[dl_dw, dl_db] = tape.gradient(perdida, [w, b])"
   ]
  },
  {
   "cell_type": "code",
   "execution_count": 13,
   "id": "6ab98e9e",
   "metadata": {},
   "outputs": [
    {
     "data": {
      "text/plain": [
       "(<tf.Tensor: shape=(3, 2), dtype=float32, numpy=\n",
       " array([[ 4.9130287,  8.6937065],\n",
       "        [ 9.826057 , 17.387413 ],\n",
       "        [14.739086 , 26.08112  ]], dtype=float32)>,\n",
       " <tf.Tensor: shape=(2,), dtype=float32, numpy=array([4.9130287, 8.6937065], dtype=float32)>)"
      ]
     },
     "execution_count": 13,
     "metadata": {},
     "output_type": "execute_result"
    }
   ],
   "source": [
    "dl_dw, dl_db"
   ]
  },
  {
   "cell_type": "markdown",
   "id": "c3a21709",
   "metadata": {},
   "source": [
    "El gradiente con respecto a la variable tiene la misma forma que la variable."
   ]
  },
  {
   "cell_type": "code",
   "execution_count": 16,
   "id": "c60da5e1",
   "metadata": {},
   "outputs": [
    {
     "name": "stdout",
     "output_type": "stream",
     "text": [
      "(3, 2)\n"
     ]
    }
   ],
   "source": [
    "print(w.shape)"
   ]
  },
  {
   "cell_type": "code",
   "execution_count": 17,
   "id": "01bf9061",
   "metadata": {},
   "outputs": [
    {
     "name": "stdout",
     "output_type": "stream",
     "text": [
      "(3, 2)\n"
     ]
    }
   ],
   "source": [
    "print(dl_dw.shape)"
   ]
  },
  {
   "cell_type": "markdown",
   "id": "ccebe1e7",
   "metadata": {},
   "source": [
    "Hacemos lo mismo, pero ahora con un diccionario:"
   ]
  },
  {
   "cell_type": "code",
   "execution_count": 18,
   "id": "c708b1be",
   "metadata": {},
   "outputs": [],
   "source": [
    "mi_vars = {\n",
    "    'w': w,\n",
    "    'b': b\n",
    "}"
   ]
  },
  {
   "cell_type": "code",
   "execution_count": 19,
   "id": "3305e3ce",
   "metadata": {},
   "outputs": [
    {
     "data": {
      "text/plain": [
       "<tf.Tensor: shape=(2,), dtype=float32, numpy=array([4.9130287, 8.6937065], dtype=float32)>"
      ]
     },
     "execution_count": 19,
     "metadata": {},
     "output_type": "execute_result"
    }
   ],
   "source": [
    "grad = tape.gradient(perdida, mi_vars)\n",
    "grad['b']"
   ]
  },
  {
   "cell_type": "markdown",
   "id": "abe29f40",
   "metadata": {},
   "source": [
    "## Gradientes de un modelo"
   ]
  },
  {
   "cell_type": "markdown",
   "id": "0f8f4b40",
   "metadata": {},
   "source": [
    "Es común unir `tf.Variable`s en un `tf.Module` o una de sus subclases (`layers.Layer`, `keras.Model`).\n",
    "\n",
    "En la mayoría de los casos, vas a querer calcular los gradientes con respecto a las variables entrenables de un modelo. Ya que todas las subclases de `tf.Module` juntan sus variables en la propiedad `Module.trainable_variables` es bastante fácil:"
   ]
  },
  {
   "cell_type": "code",
   "execution_count": 22,
   "id": "f1db6730",
   "metadata": {},
   "outputs": [],
   "source": [
    "# Primer ejemplo del uso de Keras! \n",
    "# Este es para crear una capa de neuronas completamente conectadas\n",
    "layer = tf.keras.layers.Dense(2, activation='relu')"
   ]
  },
  {
   "cell_type": "code",
   "execution_count": 23,
   "id": "77cd6046",
   "metadata": {},
   "outputs": [],
   "source": [
    "x = tf.constant([[1., 2., 3.]])"
   ]
  },
  {
   "cell_type": "code",
   "execution_count": 24,
   "id": "a5451b8a",
   "metadata": {},
   "outputs": [],
   "source": [
    "with tf.GradientTape() as tape:\n",
    "    y = layer(x)\n",
    "    perdida = tf.reduce_mean(y**2)"
   ]
  },
  {
   "cell_type": "code",
   "execution_count": 25,
   "id": "a83369b2",
   "metadata": {},
   "outputs": [],
   "source": [
    "grad = tape.gradient(perdida, layer.trainable_variables)"
   ]
  },
  {
   "cell_type": "code",
   "execution_count": 26,
   "id": "ef6387b5",
   "metadata": {},
   "outputs": [
    {
     "name": "stdout",
     "output_type": "stream",
     "text": [
      "dense_2/kernel:0, shape: (3, 2)\n",
      "dense_2/bias:0, shape: (2,)\n"
     ]
    }
   ],
   "source": [
    "for var, g in zip(layer.trainable_variables, grad):\n",
    "    print(f'{var.name}, shape: {g.shape}')"
   ]
  },
  {
   "cell_type": "markdown",
   "id": "57c878d9",
   "metadata": {},
   "source": [
    "## Controlando lo que la cinta monitorea"
   ]
  },
  {
   "cell_type": "markdown",
   "id": "39a30d71",
   "metadata": {},
   "source": [
    "Por defect, la cinta graba todas las operaciones después de acceder a una variable de tipo `tf.Variable` que es entrenable.\n",
    "\n",
    "El siguiente código no calcula un gradiente porque un objeto de tipo `tf.Tensor` no está monitoreado por defecto, y la `tf.Variable` no es entrenable:"
   ]
  },
  {
   "cell_type": "code",
   "execution_count": 27,
   "id": "f45ed15b",
   "metadata": {},
   "outputs": [],
   "source": [
    "x0 = tf.Variable(3.0, name='x0') #Entrenable\n",
    "x1 = tf.Variable(3.0, name='x1', trainable=False) #No entrenable\n",
    "x2 = tf.Variable(2.0, name='x2') + 1.0 #Variable + Tensor = Tensor\n",
    "x3 = tf.constant(3.0, name='x3') # No es una variable"
   ]
  },
  {
   "cell_type": "code",
   "execution_count": 28,
   "id": "75d40c4d",
   "metadata": {},
   "outputs": [],
   "source": [
    "with tf.GradientTape() as tape:\n",
    "    y = (x0**2) + (x1**2) + (x2**2)"
   ]
  },
  {
   "cell_type": "code",
   "execution_count": 29,
   "id": "edd2b31c",
   "metadata": {},
   "outputs": [],
   "source": [
    "grad = tape.gradient(y, [x0, x1, x2, x3])"
   ]
  },
  {
   "cell_type": "code",
   "execution_count": 30,
   "id": "ed915b08",
   "metadata": {},
   "outputs": [
    {
     "name": "stdout",
     "output_type": "stream",
     "text": [
      "tf.Tensor(6.0, shape=(), dtype=float32)\n",
      "None\n",
      "None\n",
      "None\n"
     ]
    }
   ],
   "source": [
    "for g in grad:\n",
    "    print(g)"
   ]
  },
  {
   "cell_type": "markdown",
   "id": "0a51e9fd",
   "metadata": {},
   "source": [
    "Podemos las variables monitoreados por la cinta con el método `GradientTape.watched_variables`:"
   ]
  },
  {
   "cell_type": "code",
   "execution_count": 31,
   "id": "c4cfd5c1",
   "metadata": {},
   "outputs": [
    {
     "data": {
      "text/plain": [
       "['x0:0']"
      ]
     },
     "execution_count": 31,
     "metadata": {},
     "output_type": "execute_result"
    }
   ],
   "source": [
    "[var.name for var in tape.watched_variables()]"
   ]
  },
  {
   "cell_type": "markdown",
   "id": "0e26f742",
   "metadata": {},
   "source": [
    "Se puede especificar que queremos monitorear en la cinta usando `GradientTape.watch(x)`:"
   ]
  },
  {
   "cell_type": "code",
   "execution_count": 32,
   "id": "aa31fffc",
   "metadata": {},
   "outputs": [],
   "source": [
    "x = tf.constant(3.0)"
   ]
  },
  {
   "cell_type": "code",
   "execution_count": 33,
   "id": "c280fb16",
   "metadata": {},
   "outputs": [],
   "source": [
    "with tf.GradientTape() as tape:\n",
    "    tape.watch(x)\n",
    "    y = x**2"
   ]
  },
  {
   "cell_type": "code",
   "execution_count": 34,
   "id": "41441013",
   "metadata": {},
   "outputs": [],
   "source": [
    "dy_dx = tape.gradient(y, x)"
   ]
  },
  {
   "cell_type": "code",
   "execution_count": 35,
   "id": "7657dd01",
   "metadata": {},
   "outputs": [
    {
     "name": "stdout",
     "output_type": "stream",
     "text": [
      "6.0\n"
     ]
    }
   ],
   "source": [
    "print(dy_dx.numpy())"
   ]
  },
  {
   "cell_type": "markdown",
   "id": "8e5e4b0e",
   "metadata": {},
   "source": [
    "También es posible desactivar el monitoreo de todas las variables por el uso de `watch_accessed_variables=False`:"
   ]
  },
  {
   "cell_type": "code",
   "execution_count": 36,
   "id": "d56dc2d2",
   "metadata": {},
   "outputs": [],
   "source": [
    "x0 = tf.Variable(0.0)\n",
    "x1 = tf.Variable(10.0)"
   ]
  },
  {
   "cell_type": "code",
   "execution_count": 37,
   "id": "f95409f1",
   "metadata": {},
   "outputs": [],
   "source": [
    "with tf.GradientTape(watch_accessed_variables=False) as tape:\n",
    "    tape.watch(x1)\n",
    "    y0 = tf.math.sin(x0)\n",
    "    y1 = tf.nn.softplus(x1)\n",
    "    y = y0 + y1\n",
    "    ys = tf.reduce_sum(y)"
   ]
  },
  {
   "cell_type": "code",
   "execution_count": 38,
   "id": "f6197e20",
   "metadata": {},
   "outputs": [],
   "source": [
    "grad = tape.gradient(ys, {'x0': x0, 'x1': x1})"
   ]
  },
  {
   "cell_type": "code",
   "execution_count": 39,
   "id": "6243ffd5",
   "metadata": {},
   "outputs": [
    {
     "name": "stdout",
     "output_type": "stream",
     "text": [
      "dy/dx0: None\n",
      "dy/dx1: 0.9999546\n"
     ]
    }
   ],
   "source": [
    "print('dy/dx0:', grad['x0']) #No estaba incluida en la cinta...\n",
    "print('dy/dx1:', grad['x1'].numpy())"
   ]
  },
  {
   "cell_type": "markdown",
   "id": "de50b42c",
   "metadata": {},
   "source": [
    "## Resultados intermedios"
   ]
  },
  {
   "cell_type": "markdown",
   "id": "fb506d8a",
   "metadata": {},
   "source": [
    "Se puede calcular gradientes de la salida con respecto a valores intermedios calculados adentro del contexto de la cinta:"
   ]
  },
  {
   "cell_type": "code",
   "execution_count": 40,
   "id": "358a7c27",
   "metadata": {},
   "outputs": [],
   "source": [
    "x = tf.constant(3.0)"
   ]
  },
  {
   "cell_type": "code",
   "execution_count": 41,
   "id": "b9a1c6d7",
   "metadata": {},
   "outputs": [],
   "source": [
    "with tf.GradientTape() as tape:\n",
    "    tape.watch(x)\n",
    "    y = x*x\n",
    "    z = y*y"
   ]
  },
  {
   "cell_type": "code",
   "execution_count": 42,
   "id": "075d13c0",
   "metadata": {},
   "outputs": [
    {
     "name": "stdout",
     "output_type": "stream",
     "text": [
      "18.0\n"
     ]
    }
   ],
   "source": [
    "print(tape.gradient(z, y).numpy())"
   ]
  },
  {
   "cell_type": "markdown",
   "id": "acb95260",
   "metadata": {},
   "source": [
    "Por defecto, los recursos asignados a una `GradientTape` están liberados el momento que se usa el método `GradientTape.gradient`.\n",
    "\n",
    "Para calcular multiples gradientes, se puede usar la opción `persistent=True`. En este caso se puede llamar al método `gradient` varias veces, y los recursos de la cinta se liberan automáticamente (*garbage collection*)."
   ]
  },
  {
   "cell_type": "code",
   "execution_count": 43,
   "id": "48b7e77c",
   "metadata": {},
   "outputs": [],
   "source": [
    "x = tf.constant([1, 3.0])"
   ]
  },
  {
   "cell_type": "code",
   "execution_count": 44,
   "id": "06363e39",
   "metadata": {},
   "outputs": [],
   "source": [
    "with tf.GradientTape(persistent=True) as tape:\n",
    "    tape.watch(x)\n",
    "    y = x * x\n",
    "    z = y * y"
   ]
  },
  {
   "cell_type": "code",
   "execution_count": 47,
   "id": "77363158",
   "metadata": {},
   "outputs": [
    {
     "name": "stdout",
     "output_type": "stream",
     "text": [
      "[  4. 108.]\n"
     ]
    }
   ],
   "source": [
    "print(tape.gradient(z, x).numpy())"
   ]
  },
  {
   "cell_type": "code",
   "execution_count": 46,
   "id": "228bcf14",
   "metadata": {},
   "outputs": [
    {
     "name": "stdout",
     "output_type": "stream",
     "text": [
      "[2. 6.]\n"
     ]
    }
   ],
   "source": [
    "print(tape.gradient(y, x).numpy())"
   ]
  },
  {
   "cell_type": "code",
   "execution_count": 49,
   "id": "3a93cfbc",
   "metadata": {},
   "outputs": [
    {
     "ename": "NameError",
     "evalue": "name 'tape' is not defined",
     "output_type": "error",
     "traceback": [
      "\u001b[0;31m---------------------------------------------------------------------------\u001b[0m",
      "\u001b[0;31mNameError\u001b[0m                                 Traceback (most recent call last)",
      "Cell \u001b[0;32mIn[49], line 1\u001b[0m\n\u001b[0;32m----> 1\u001b[0m \u001b[38;5;28;01mdel\u001b[39;00m tape\n",
      "\u001b[0;31mNameError\u001b[0m: name 'tape' is not defined"
     ]
    }
   ],
   "source": [
    "del tape #Para eliminar la cinta"
   ]
  },
  {
   "cell_type": "code",
   "execution_count": 50,
   "id": "5ea3bc05",
   "metadata": {},
   "outputs": [
    {
     "ename": "NameError",
     "evalue": "name 'tape' is not defined",
     "output_type": "error",
     "traceback": [
      "\u001b[0;31m---------------------------------------------------------------------------\u001b[0m",
      "\u001b[0;31mNameError\u001b[0m                                 Traceback (most recent call last)",
      "Cell \u001b[0;32mIn[50], line 1\u001b[0m\n\u001b[0;32m----> 1\u001b[0m \u001b[38;5;28mprint\u001b[39m(\u001b[43mtape\u001b[49m\u001b[38;5;241m.\u001b[39mgradient(y, x)\u001b[38;5;241m.\u001b[39mnumpy())\n",
      "\u001b[0;31mNameError\u001b[0m: name 'tape' is not defined"
     ]
    }
   ],
   "source": [
    "print(tape.gradient(y, x).numpy())"
   ]
  },
  {
   "cell_type": "markdown",
   "id": "f10d09ca",
   "metadata": {},
   "source": [
    "* Hay un costo (pequeño) de tiempo de cómputo en el uso del contexto de `GradientTape`, así que mejor usarlo solamente cuando sea necesario.\n",
    "\n",
    "\n",
    "* Hay un costo también de memoria. Con `persistent=True` **todo** está grabado, así que el uso de memoría puede crecer bastante."
   ]
  },
  {
   "cell_type": "markdown",
   "id": "3ca47274",
   "metadata": {},
   "source": [
    "## Gradientes de varias funciones"
   ]
  },
  {
   "cell_type": "markdown",
   "id": "6ff232a2",
   "metadata": {},
   "source": [
    "Un gradiente es, fundamentalmente, una operación en un escalar."
   ]
  },
  {
   "cell_type": "code",
   "execution_count": 51,
   "id": "1d85c4db",
   "metadata": {},
   "outputs": [],
   "source": [
    "x = tf.Variable(2.0)"
   ]
  },
  {
   "cell_type": "code",
   "execution_count": 52,
   "id": "5950b712",
   "metadata": {},
   "outputs": [],
   "source": [
    "with tf.GradientTape(persistent=True) as tape:\n",
    "    y0 = x**2\n",
    "    y1 = 1 / x"
   ]
  },
  {
   "cell_type": "code",
   "execution_count": 53,
   "id": "9ed5c2fc",
   "metadata": {},
   "outputs": [
    {
     "name": "stdout",
     "output_type": "stream",
     "text": [
      "4.0\n"
     ]
    }
   ],
   "source": [
    "print(tape.gradient(y0, x).numpy())"
   ]
  },
  {
   "cell_type": "code",
   "execution_count": 54,
   "id": "ac1e0336",
   "metadata": {},
   "outputs": [
    {
     "name": "stdout",
     "output_type": "stream",
     "text": [
      "-0.25\n"
     ]
    }
   ],
   "source": [
    "print(tape.gradient(y1, x).numpy())"
   ]
  },
  {
   "cell_type": "markdown",
   "id": "429c5a54",
   "metadata": {},
   "source": [
    "Si pedimos el gradiente de varias funciones (*targets*), el resultado para cada variable (*source*) es:\n",
    "\n",
    "* El gradiente de la **suma** de las funciones\n",
    "\n",
    "\n",
    "* La suma de los gradientes (equivalente)."
   ]
  },
  {
   "cell_type": "code",
   "execution_count": 55,
   "id": "e959a881",
   "metadata": {},
   "outputs": [],
   "source": [
    "x = tf.Variable(2.0)"
   ]
  },
  {
   "cell_type": "code",
   "execution_count": 56,
   "id": "f98f7470",
   "metadata": {},
   "outputs": [],
   "source": [
    "with tf.GradientTape() as tape:\n",
    "    y0 = x**2\n",
    "    y1 = 1 / x"
   ]
  },
  {
   "cell_type": "code",
   "execution_count": 57,
   "id": "f66c3f5d",
   "metadata": {},
   "outputs": [
    {
     "name": "stdout",
     "output_type": "stream",
     "text": [
      "3.75\n"
     ]
    }
   ],
   "source": [
    "print(tape.gradient({'y0': y0, 'y1': y1}, x).numpy())"
   ]
  },
  {
   "cell_type": "code",
   "execution_count": 58,
   "id": "853b0c88",
   "metadata": {},
   "outputs": [],
   "source": [
    "x = tf.Variable(2.)"
   ]
  },
  {
   "cell_type": "code",
   "execution_count": 59,
   "id": "15c1c0f5",
   "metadata": {},
   "outputs": [],
   "source": [
    "with tf.GradientTape() as tape:\n",
    "    y = x * [3., 4.]"
   ]
  },
  {
   "cell_type": "code",
   "execution_count": 60,
   "id": "c0560be6",
   "metadata": {},
   "outputs": [
    {
     "name": "stdout",
     "output_type": "stream",
     "text": [
      "7.0\n"
     ]
    }
   ],
   "source": [
    "print(tape.gradient(y, x).numpy())"
   ]
  },
  {
   "cell_type": "markdown",
   "id": "159736cc",
   "metadata": {},
   "source": [
    "En el caso abajo, podemos obtener el gradiente (derivada con respecto a $x$) de una función en todos los valores de $x$ porque trata cada elemento del arreglo como un elemento independiente."
   ]
  },
  {
   "cell_type": "code",
   "execution_count": null,
   "id": "8d40c219",
   "metadata": {},
   "outputs": [],
   "source": [
    "x = tf.linspace(-10.0, 10.0, 200+1)"
   ]
  },
  {
   "cell_type": "code",
   "execution_count": 62,
   "id": "4ca54f4f",
   "metadata": {},
   "outputs": [],
   "source": [
    "with tf.GradientTape() as tape:\n",
    "    tape.watch(x)\n",
    "    y = tf.nn.sigmoid(x)"
   ]
  },
  {
   "cell_type": "code",
   "execution_count": 63,
   "id": "3746fc0c",
   "metadata": {},
   "outputs": [],
   "source": [
    "dy_dx = tape.gradient(y, x)"
   ]
  },
  {
   "cell_type": "code",
   "execution_count": 64,
   "id": "d25174ab",
   "metadata": {},
   "outputs": [
    {
     "data": {
      "image/png": "[encoded data removed]",
      "text/plain": [
       "<Figure size 640x480 with 1 Axes>"
      ]
     },
     "metadata": {},
     "output_type": "display_data"
    }
   ],
   "source": [
    "plt.plot(x, y, label='y')\n",
    "plt.plot(x, dy_dx, label='dy/dx')\n",
    "plt.legend()\n",
    "_ = plt.xlabel('x')"
   ]
  },
  {
   "cell_type": "markdown",
   "id": "aa4adc46",
   "metadata": {},
   "source": [
    "## Flujo de control"
   ]
  },
  {
   "cell_type": "markdown",
   "id": "eda3cbc5",
   "metadata": {},
   "source": [
    "Ya que una cinta graba operaciones cuando están ejecutadas, el flujo de control de Python está incorporado naturalmente (por ejemplo, `if` y `while`)."
   ]
  },
  {
   "cell_type": "code",
   "execution_count": 65,
   "id": "1fab7761",
   "metadata": {},
   "outputs": [],
   "source": [
    "x = tf.constant(1.0)"
   ]
  },
  {
   "cell_type": "code",
   "execution_count": 66,
   "id": "425f8169",
   "metadata": {},
   "outputs": [],
   "source": [
    "v0 = tf.Variable(2.0)\n",
    "v1 = tf.Variable(2.0)"
   ]
  },
  {
   "cell_type": "code",
   "execution_count": 67,
   "id": "0ed74ce7",
   "metadata": {},
   "outputs": [],
   "source": [
    "with tf.GradientTape(persistent=True) as tape:\n",
    "    tape.watch(x)\n",
    "    if x > 0.0:\n",
    "        result = v0\n",
    "    else:\n",
    "        result = v1**2"
   ]
  },
  {
   "cell_type": "code",
   "execution_count": 68,
   "id": "9c205f05",
   "metadata": {},
   "outputs": [],
   "source": [
    "dv0, dv1 = tape.gradient(result, [v0, v1])"
   ]
  },
  {
   "cell_type": "code",
   "execution_count": 69,
   "id": "636fea37",
   "metadata": {},
   "outputs": [
    {
     "name": "stdout",
     "output_type": "stream",
     "text": [
      "tf.Tensor(1.0, shape=(), dtype=float32)\n"
     ]
    }
   ],
   "source": [
    "print(dv0)"
   ]
  },
  {
   "cell_type": "code",
   "execution_count": 70,
   "id": "2446f3a0",
   "metadata": {},
   "outputs": [
    {
     "name": "stdout",
     "output_type": "stream",
     "text": [
      "None\n"
     ]
    }
   ],
   "source": [
    "print(dv1)"
   ]
  },
  {
   "cell_type": "markdown",
   "id": "317e7586",
   "metadata": {},
   "source": [
    "El resultado arriba depende de si $x > 0$ o no. La derivada con respecto a $x$ es siempre `None`."
   ]
  },
  {
   "cell_type": "code",
   "execution_count": null,
   "id": "e4e1ffff",
   "metadata": {},
   "outputs": [],
   "source": [
    "dx = tape.gradient(result, x)"
   ]
  },
  {
   "cell_type": "code",
   "execution_count": 72,
   "id": "4b25c7d4",
   "metadata": {},
   "outputs": [
    {
     "name": "stdout",
     "output_type": "stream",
     "text": [
      "None\n"
     ]
    }
   ],
   "source": [
    "print(dx)"
   ]
  },
  {
   "cell_type": "markdown",
   "id": "e6b9902f",
   "metadata": {},
   "source": [
    "## Casos donde el gradiente devuelve `None`"
   ]
  },
  {
   "cell_type": "markdown",
   "id": "6e09b6d3",
   "metadata": {},
   "source": [
    "Si una función no depende de una variable, el gradiente es `None` (*a target is not connected to a source*)"
   ]
  },
  {
   "cell_type": "code",
   "execution_count": 73,
   "id": "549d452c",
   "metadata": {},
   "outputs": [],
   "source": [
    "x = tf.Variable(2.)\n",
    "y = tf.Variable(3.)"
   ]
  },
  {
   "cell_type": "code",
   "execution_count": 74,
   "id": "eef88f82",
   "metadata": {},
   "outputs": [],
   "source": [
    "with tf.GradientTape() as tape:\n",
    "    z = y * y"
   ]
  },
  {
   "cell_type": "code",
   "execution_count": 75,
   "id": "beceae9c",
   "metadata": {},
   "outputs": [
    {
     "name": "stdout",
     "output_type": "stream",
     "text": [
      "None\n"
     ]
    }
   ],
   "source": [
    "print(tape.gradient(z, x))"
   ]
  },
  {
   "cell_type": "markdown",
   "id": "92f052a3",
   "metadata": {},
   "source": [
    "Hay otras circunstancias donde un gradiente puede resultar \"descontectado\" de una variable:"
   ]
  },
  {
   "cell_type": "markdown",
   "id": "de6d9459",
   "metadata": {},
   "source": [
    "### 1. Reemplazar una variable por un tensor"
   ]
  },
  {
   "cell_type": "markdown",
   "id": "ee4db012",
   "metadata": {},
   "source": [
    "Ya que la cinta monitorea objetos de tipo `tf.Variable`, pero no de tipo `tf.Tensor`, un error común es reemplazar una `tf.Variable` por un `tf.Tensor`, en vez de usar `Variable.assign` para actualizar la variable."
   ]
  },
  {
   "cell_type": "code",
   "execution_count": 76,
   "id": "bbb87a76",
   "metadata": {},
   "outputs": [],
   "source": [
    "x = tf.Variable(2.0)"
   ]
  },
  {
   "cell_type": "code",
   "execution_count": 78,
   "id": "f363907c",
   "metadata": {},
   "outputs": [
    {
     "name": "stdout",
     "output_type": "stream",
     "text": [
      "ResourceVariable : tf.Tensor(1.0, shape=(), dtype=float32)\n",
      "EagerTensor : None\n"
     ]
    }
   ],
   "source": [
    "for epoch in range(2):\n",
    "    with tf.GradientTape() as tape:\n",
    "        y = x+1\n",
    "        \n",
    "    print(type(x).__name__, \":\", tape.gradient(y, x))\n",
    "    x = x + 1 #Este debería ser x.assign_add(1)"
   ]
  },
  {
   "cell_type": "markdown",
   "id": "b2056d63",
   "metadata": {},
   "source": [
    "### 2. Cálculos realizados fuera de TensorFlow"
   ]
  },
  {
   "cell_type": "markdown",
   "id": "e9418366",
   "metadata": {},
   "source": [
    "La cinta no puede grabar el camino del gradiente si el cálculo sale de TensorFlow:"
   ]
  },
  {
   "cell_type": "code",
   "execution_count": 79,
   "id": "1ed7da13",
   "metadata": {},
   "outputs": [],
   "source": [
    "x = tf.Variable([[1.0, 2.0],\n",
    "                 [3.0, 4.0]], dtype=tf.float32)"
   ]
  },
  {
   "cell_type": "code",
   "execution_count": 80,
   "id": "bfc82a1c",
   "metadata": {},
   "outputs": [],
   "source": [
    "with tf.GradientTape() as tape:\n",
    "    x2 = x**2\n",
    "    \n",
    "    #Este es con NumPy, no TF\n",
    "    y = np.mean(x2, axis=0)\n",
    "    \n",
    "    #Este va a convertir un arreglo de NumPy a un tensor constante\n",
    "    #con tf.convert_to_tensor\n",
    "    y = tf.reduce_mean(y, axis=0)"
   ]
  },
  {
   "cell_type": "code",
   "execution_count": 81,
   "id": "5d486122",
   "metadata": {},
   "outputs": [
    {
     "name": "stdout",
     "output_type": "stream",
     "text": [
      "None\n"
     ]
    }
   ],
   "source": [
    "print(tape.gradient(y, x))"
   ]
  },
  {
   "cell_type": "markdown",
   "id": "92ca86a9",
   "metadata": {},
   "source": [
    "### 3. Pasar gradientes a través de un entero o *string*"
   ]
  },
  {
   "cell_type": "markdown",
   "id": "c78bfe06",
   "metadata": {},
   "source": [
    "Enteros y *strings* no son diferenciables. Si el camino de un cálculo utiliza estos tipos, no hará gradiente."
   ]
  },
  {
   "cell_type": "code",
   "execution_count": 82,
   "id": "09a1e769",
   "metadata": {},
   "outputs": [],
   "source": [
    "x = tf.constant(10)"
   ]
  },
  {
   "cell_type": "code",
   "execution_count": 83,
   "id": "329437f1",
   "metadata": {},
   "outputs": [
    {
     "name": "stdout",
     "output_type": "stream",
     "text": [
      "WARNING:tensorflow:The dtype of the watched tensor must be floating (e.g. tf.float32), got tf.int32\n"
     ]
    }
   ],
   "source": [
    "with tf.GradientTape() as g:\n",
    "    g.watch(x)\n",
    "    y = x * x"
   ]
  },
  {
   "cell_type": "code",
   "execution_count": 84,
   "id": "ca252afe",
   "metadata": {},
   "outputs": [
    {
     "name": "stdout",
     "output_type": "stream",
     "text": [
      "None\n"
     ]
    }
   ],
   "source": [
    "print(g.gradient(y, x))"
   ]
  },
  {
   "cell_type": "markdown",
   "id": "244f187d",
   "metadata": {},
   "source": [
    "### 4. Pasar gradientes a través de un objeto con estado"
   ]
  },
  {
   "cell_type": "markdown",
   "id": "b3ce117b",
   "metadata": {},
   "source": [
    "Cuando se lee de un objeto con un estado, la cinta solamente puede observar el estado actual, no la historia de como llegó a ese estado."
   ]
  },
  {
   "cell_type": "markdown",
   "id": "70529fda",
   "metadata": {},
   "source": [
    "Un `tf.Tensor` es inmutable. Tiene **valor** pero no tiene **estado**. Todas las operaciones que hemos visto hasta ahora también son sin estado: la salida de `tf.matmul` depende solamente de las entradas."
   ]
  },
  {
   "cell_type": "markdown",
   "id": "2f7fd59f",
   "metadata": {},
   "source": [
    "Una `tf.Variable` tiene un estado interno, su valor. Cuando se usa la variable, se lee su estado. Es normal calcular un gradiente con respecto a una variable, pero su estado bloquea ls posibilidad de extender los cálculos de los gradientes más allá. Por ejemplo:"
   ]
  },
  {
   "cell_type": "code",
   "execution_count": 85,
   "id": "7138f3d6",
   "metadata": {},
   "outputs": [],
   "source": [
    "x0 = tf.Variable(3.0)\n",
    "x1 = tf.Variable(0.0)"
   ]
  },
  {
   "cell_type": "code",
   "execution_count": 86,
   "id": "cb2bf3c6",
   "metadata": {},
   "outputs": [],
   "source": [
    "with tf.GradientTape() as tape:\n",
    "    # Actualizar x1 = x1 + x0\n",
    "    x1.assign_add(x0)\n",
    "    \n",
    "    # La cinta comienza grabando desde x1\n",
    "    y = x1**2"
   ]
  },
  {
   "cell_type": "code",
   "execution_count": 87,
   "id": "0e64911c",
   "metadata": {},
   "outputs": [
    {
     "name": "stdout",
     "output_type": "stream",
     "text": [
      "None\n"
     ]
    }
   ],
   "source": [
    "print(tape.gradient(y, x0))"
   ]
  },
  {
   "cell_type": "markdown",
   "id": "3a3f3c70",
   "metadata": {},
   "source": [
    "Objetos como iteradores de tipo `tf.data.Dataset` y objetos de `tf.queue` tienen estado, así que bloquean todos los gradientes de tensores que pasan por esos objetos."
   ]
  },
  {
   "cell_type": "markdown",
   "id": "1b014410",
   "metadata": {},
   "source": [
    "## No hay gradiente registrado"
   ]
  },
  {
   "cell_type": "markdown",
   "id": "667069e9",
   "metadata": {},
   "source": [
    "Algunas `tf.Operation`s son registrados como no-diferenciable y devuelven `None`. Otras no tienen gradientes registrados."
   ]
  },
  {
   "cell_type": "markdown",
   "id": "b31234a7",
   "metadata": {},
   "source": [
    "Hay una [lista](https://www.tensorflow.org/api_docs/python/tf/raw_ops) de operaciones de bajo nivel (`tf.raw_ops`) con gradientes registrados."
   ]
  },
  {
   "cell_type": "markdown",
   "id": "e671a71d",
   "metadata": {},
   "source": [
    "Pasando un gradiente a través de una operación de `float` que no tiene un gradiente registrado resulta en un error. "
   ]
  },
  {
   "cell_type": "markdown",
   "id": "006c8f03",
   "metadata": {},
   "source": [
    "Por ejemplo, la función `tf.image.adjust_contrast` envuelve `raw_ops.AdjustContrastv2` que podría tener un gradiente pero no está implementado:"
   ]
  },
  {
   "cell_type": "code",
   "execution_count": 88,
   "id": "0f611f85",
   "metadata": {},
   "outputs": [],
   "source": [
    "image = tf.Variable([[[0.5, 0.0, 0.0]]])\n",
    "delta = tf.Variable(0.1)"
   ]
  },
  {
   "cell_type": "code",
   "execution_count": 90,
   "id": "db484d75",
   "metadata": {},
   "outputs": [],
   "source": [
    "with tf.GradientTape() as tape:\n",
    "    new_image = tf.image.adjust_contrast(image, delta)"
   ]
  },
  {
   "cell_type": "code",
   "execution_count": 91,
   "id": "b7208f15",
   "metadata": {},
   "outputs": [
    {
     "name": "stdout",
     "output_type": "stream",
     "text": [
      "LookupError: gradient registry has no entry for: AdjustContrastv2\n"
     ]
    }
   ],
   "source": [
    "try:\n",
    "    print(tape.gradient(new_image, [image, delta]))\n",
    "    assert False # Este no debería pasar\n",
    "except LookupError as e:\n",
    "    print(f'{type(e).__name__}: {e}')"
   ]
  },
  {
   "cell_type": "markdown",
   "id": "f5326c1e",
   "metadata": {},
   "source": [
    "Se puede implementar gradientes y registrarlos (con `tf.RegisterGradient`)."
   ]
  },
  {
   "cell_type": "markdown",
   "id": "62760d00",
   "metadata": {},
   "source": [
    "## Ceros en vez de `None`"
   ]
  },
  {
   "cell_type": "markdown",
   "id": "7b9b7baf",
   "metadata": {},
   "source": [
    "En el caso de tener gradientes \"desconectados\" se puede especificar usar $0$ en vez de `None`:"
   ]
  },
  {
   "cell_type": "code",
   "execution_count": 92,
   "id": "5f1bbf63",
   "metadata": {},
   "outputs": [],
   "source": [
    "x = tf.Variable([2., 2.])\n",
    "y = tf.Variable(3.)"
   ]
  },
  {
   "cell_type": "code",
   "execution_count": 93,
   "id": "7748bb10",
   "metadata": {},
   "outputs": [],
   "source": [
    "with tf.GradientTape() as tape:\n",
    "    z = y**2"
   ]
  },
  {
   "cell_type": "code",
   "execution_count": 94,
   "id": "86b1a139",
   "metadata": {},
   "outputs": [
    {
     "name": "stdout",
     "output_type": "stream",
     "text": [
      "tf.Tensor([0. 0.], shape=(2,), dtype=float32)\n"
     ]
    }
   ],
   "source": [
    "print(tape.gradient(z, x, unconnected_gradients=tf.UnconnectedGradients.ZERO))"
   ]
  },
  {
   "cell_type": "code",
   "execution_count": null,
   "id": "c5ce3552",
   "metadata": {},
   "outputs": [],
   "source": []
  }
 ],
 "metadata": {
  "kernelspec": {
   "display_name": "Python 3 (ipykernel)",
   "language": "python",
   "name": "python3"
  },
  "language_info": {
   "codemirror_mode": {
    "name": "ipython",
    "version": 3
   },
   "file_extension": ".py",
   "mimetype": "text/x-python",
   "name": "python",
   "nbconvert_exporter": "python",
   "pygments_lexer": "ipython3",
   "version": "3.9.17"
  }
 },
 "nbformat": 4,
 "nbformat_minor": 5
}
