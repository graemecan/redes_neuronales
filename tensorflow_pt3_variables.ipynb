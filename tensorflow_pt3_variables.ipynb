{
 "cells": [
  {
   "cell_type": "markdown",
   "id": "d96d25a2",
   "metadata": {},
   "source": [
    "# TensorFlow Parte III - Variables"
   ]
  },
  {
   "cell_type": "markdown",
   "id": "f5619413",
   "metadata": {},
   "source": [
    "Con variables podemos representar datos que cambiarán durante el cálculo. Usamos la clase `tf.Variable` que representa un tensor con valores que se puede modificar."
   ]
  },
  {
   "cell_type": "code",
   "execution_count": 1,
   "id": "b51f9fc8",
   "metadata": {},
   "outputs": [
    {
     "name": "stderr",
     "output_type": "stream",
     "text": [
      "2023-09-28 12:59:34.514308: I tensorflow/core/platform/cpu_feature_guard.cc:182] This TensorFlow binary is optimized to use available CPU instructions in performance-critical operations.\n",
      "To enable the following instructions: AVX2 FMA, in other operations, rebuild TensorFlow with the appropriate compiler flags.\n",
      "2023-09-28 12:59:35.352380: W tensorflow/compiler/tf2tensorrt/utils/py_utils.cc:38] TF-TRT Warning: Could not find TensorRT\n"
     ]
    }
   ],
   "source": [
    "import tensorflow as tf"
   ]
  },
  {
   "cell_type": "markdown",
   "id": "ab164b8e",
   "metadata": {},
   "source": [
    "## Crear una variable"
   ]
  },
  {
   "cell_type": "code",
   "execution_count": 2,
   "id": "581bb6a9",
   "metadata": {},
   "outputs": [
    {
     "name": "stderr",
     "output_type": "stream",
     "text": [
      "2023-09-28 12:59:55.444779: I tensorflow/compiler/xla/stream_executor/cuda/cuda_gpu_executor.cc:995] successful NUMA node read from SysFS had negative value (-1), but there must be at least one NUMA node, so returning NUMA node zero. See more at https://github.com/torvalds/linux/blob/v6.0/Documentation/ABI/testing/sysfs-bus-pci#L344-L355\n",
      "2023-09-28 12:59:55.465837: W tensorflow/core/common_runtime/gpu/gpu_device.cc:1960] Cannot dlopen some GPU libraries. Please make sure the missing libraries mentioned above are installed properly if you would like to use GPU. Follow the guide at https://www.tensorflow.org/install/gpu for how to download and setup the required libraries for your platform.\n",
      "Skipping registering GPU devices...\n"
     ]
    }
   ],
   "source": [
    "mi_tensor = tf.constant([[1.0, 2.0], [3.0, 4.0]])\n",
    "mi_variable = tf.Variable(mi_tensor)"
   ]
  },
  {
   "cell_type": "markdown",
   "id": "153361de",
   "metadata": {},
   "source": [
    "Variables pueden tener cualquier tipo"
   ]
  },
  {
   "cell_type": "code",
   "execution_count": 3,
   "id": "a874846c",
   "metadata": {},
   "outputs": [],
   "source": [
    "variable_bool = tf.Variable([False, False, False, True])\n",
    "variable_compleja = tf.Variable([5+4j, 6+1j])"
   ]
  },
  {
   "cell_type": "markdown",
   "id": "d951c309",
   "metadata": {},
   "source": [
    "Variables en TensorFlow son muy similares a tensores. Tienen un `dtype`, una forma y se puede exportar a NumPy."
   ]
  },
  {
   "cell_type": "code",
   "execution_count": 4,
   "id": "0375f2ed",
   "metadata": {},
   "outputs": [
    {
     "data": {
      "text/plain": [
       "TensorShape([2, 2])"
      ]
     },
     "execution_count": 4,
     "metadata": {},
     "output_type": "execute_result"
    }
   ],
   "source": [
    "mi_variable.shape"
   ]
  },
  {
   "cell_type": "code",
   "execution_count": 5,
   "id": "44d0baae",
   "metadata": {},
   "outputs": [
    {
     "data": {
      "text/plain": [
       "tf.float32"
      ]
     },
     "execution_count": 5,
     "metadata": {},
     "output_type": "execute_result"
    }
   ],
   "source": [
    "mi_variable.dtype"
   ]
  },
  {
   "cell_type": "code",
   "execution_count": 6,
   "id": "748636f9",
   "metadata": {},
   "outputs": [
    {
     "data": {
      "text/plain": [
       "array([[1., 2.],\n",
       "       [3., 4.]], dtype=float32)"
      ]
     },
     "execution_count": 6,
     "metadata": {},
     "output_type": "execute_result"
    }
   ],
   "source": [
    "mi_variable.numpy()"
   ]
  },
  {
   "cell_type": "markdown",
   "id": "abfa9ec0",
   "metadata": {},
   "source": [
    "La mayoría de las operaciones de tensores funcionan en variables, pero no se puede reformar una variable."
   ]
  },
  {
   "cell_type": "code",
   "execution_count": 7,
   "id": "24a682d4",
   "metadata": {},
   "outputs": [
    {
     "data": {
      "text/plain": [
       "<tf.Variable 'Variable:0' shape=(2, 2) dtype=float32, numpy=\n",
       "array([[1., 2.],\n",
       "       [3., 4.]], dtype=float32)>"
      ]
     },
     "execution_count": 7,
     "metadata": {},
     "output_type": "execute_result"
    }
   ],
   "source": [
    "mi_variable"
   ]
  },
  {
   "cell_type": "code",
   "execution_count": 8,
   "id": "a4d86c4e",
   "metadata": {},
   "outputs": [
    {
     "data": {
      "text/plain": [
       "<tf.Tensor: shape=(2, 2), dtype=float32, numpy=\n",
       "array([[1., 2.],\n",
       "       [3., 4.]], dtype=float32)>"
      ]
     },
     "execution_count": 8,
     "metadata": {},
     "output_type": "execute_result"
    }
   ],
   "source": [
    "tf.convert_to_tensor(mi_variable)"
   ]
  },
  {
   "cell_type": "code",
   "execution_count": 9,
   "id": "aeea8d6b",
   "metadata": {},
   "outputs": [
    {
     "data": {
      "text/plain": [
       "<tf.Tensor: shape=(2,), dtype=int64, numpy=array([1, 1])>"
      ]
     },
     "execution_count": 9,
     "metadata": {},
     "output_type": "execute_result"
    }
   ],
   "source": [
    "tf.math.argmax(mi_variable)"
   ]
  },
  {
   "cell_type": "markdown",
   "id": "d2a9def8",
   "metadata": {},
   "source": [
    "Haciendo un reshape, creamos un nuevo tensor, no cambiamos la variable."
   ]
  },
  {
   "cell_type": "code",
   "execution_count": 10,
   "id": "047f5054",
   "metadata": {},
   "outputs": [
    {
     "data": {
      "text/plain": [
       "<tf.Tensor: shape=(1, 4), dtype=float32, numpy=array([[1., 2., 3., 4.]], dtype=float32)>"
      ]
     },
     "execution_count": 10,
     "metadata": {},
     "output_type": "execute_result"
    }
   ],
   "source": [
    "tf.reshape(mi_variable, [1, 4])"
   ]
  },
  {
   "cell_type": "markdown",
   "id": "1b313106",
   "metadata": {},
   "source": [
    "Las variables están respaldadoas por tensores. Se puede reasignar el tensor usando `tf.Variable.assign`. Normalmente esta operación ocupa la memoria ya existente del tensor."
   ]
  },
  {
   "cell_type": "code",
   "execution_count": 11,
   "id": "173ed235",
   "metadata": {},
   "outputs": [],
   "source": [
    "a = tf.Variable([2.0, 3.0])"
   ]
  },
  {
   "cell_type": "markdown",
   "id": "c0beb762",
   "metadata": {},
   "source": [
    "Abajo cambiamos los valores, manteniendo el tipo."
   ]
  },
  {
   "cell_type": "code",
   "execution_count": 12,
   "id": "324f620b",
   "metadata": {},
   "outputs": [
    {
     "data": {
      "text/plain": [
       "<tf.Variable 'UnreadVariable' shape=(2,) dtype=float32, numpy=array([1., 2.], dtype=float32)>"
      ]
     },
     "execution_count": 12,
     "metadata": {},
     "output_type": "execute_result"
    }
   ],
   "source": [
    "a.assign([1, 2])"
   ]
  },
  {
   "cell_type": "markdown",
   "id": "4496c03c",
   "metadata": {},
   "source": [
    "En el ejemplo abajo sería necesario cambiar el tamaño de la variable, que no está permitido:"
   ]
  },
  {
   "cell_type": "code",
   "execution_count": null,
   "id": "150e1073",
   "metadata": {},
   "outputs": [],
   "source": [
    "try:\n",
    "    a.assign([1.0, 2.0, 3.0])\n",
    "except Exception as e:\n",
    "    print(f\"{type(e).__name__}: {e}\")"
   ]
  },
  {
   "cell_type": "markdown",
   "id": "c81a2d63",
   "metadata": {},
   "source": [
    "Si ocupas una variable como un tensor en operaciones, típicamente vas a operar en el tensor de fondo.\n",
    "\n",
    "Creando variables nuevas de variables existentes duplica los tensores de fondo. Dos variables no comparten la misma memoria."
   ]
  },
  {
   "cell_type": "code",
   "execution_count": null,
   "id": "62270a5f",
   "metadata": {},
   "outputs": [],
   "source": [
    "a = tf.Variable([2.0, 3.0])"
   ]
  },
  {
   "cell_type": "code",
   "execution_count": null,
   "id": "f0965fac",
   "metadata": {},
   "outputs": [],
   "source": [
    "b = tf.Variable(a)"
   ]
  },
  {
   "cell_type": "code",
   "execution_count": null,
   "id": "c1615881",
   "metadata": {},
   "outputs": [],
   "source": [
    "a.assign([5, 6])"
   ]
  },
  {
   "cell_type": "code",
   "execution_count": null,
   "id": "ecad0a51",
   "metadata": {},
   "outputs": [],
   "source": [
    "print(a.numpy())"
   ]
  },
  {
   "cell_type": "code",
   "execution_count": null,
   "id": "69973ff8",
   "metadata": {},
   "outputs": [],
   "source": [
    "print(b.numpy())"
   ]
  },
  {
   "cell_type": "markdown",
   "id": "d6f3e927",
   "metadata": {},
   "source": [
    "Hay otras versiones de `assign`:"
   ]
  },
  {
   "cell_type": "code",
   "execution_count": null,
   "id": "7cd3dd04",
   "metadata": {},
   "outputs": [],
   "source": [
    "print(a.assign_add([2,3]).numpy())"
   ]
  },
  {
   "cell_type": "code",
   "execution_count": null,
   "id": "8565dedc",
   "metadata": {},
   "outputs": [],
   "source": [
    "print(a.assign_sub([7,9]).numpy())"
   ]
  },
  {
   "cell_type": "markdown",
   "id": "1b591397",
   "metadata": {},
   "source": [
    "## Ciclos de vida, nombramiento y seguimiento"
   ]
  },
  {
   "cell_type": "markdown",
   "id": "f9b2ea70",
   "metadata": {},
   "source": [
    "En TensorFlow de Python, una instancia de `tf.Variable` tiene el mismo \"ciclo de vida\" de cualquier objeto de Python. Si no hay referencias a la variable, será desagniada automáticamente.\n",
    "\n",
    "También se puede nombrar variables, que ayuda en el seguimiento y el proceso de *debugging*. Se puede nombrar dos variables igual."
   ]
  },
  {
   "cell_type": "code",
   "execution_count": null,
   "id": "8ef42f06",
   "metadata": {},
   "outputs": [],
   "source": [
    "a = tf.Variable(mi_tensor, name=\"Pedro\")"
   ]
  },
  {
   "cell_type": "code",
   "execution_count": null,
   "id": "9e1f5b31",
   "metadata": {},
   "outputs": [],
   "source": [
    "b = tf.Variable(mi_tensor + 1, name=\"Pedro\")"
   ]
  },
  {
   "cell_type": "code",
   "execution_count": null,
   "id": "0151cc2f",
   "metadata": {},
   "outputs": [],
   "source": [
    "print(a == b)"
   ]
  },
  {
   "cell_type": "code",
   "execution_count": null,
   "id": "b768a7b6",
   "metadata": {},
   "outputs": [],
   "source": [
    "a.name"
   ]
  },
  {
   "cell_type": "markdown",
   "id": "d885da5f",
   "metadata": {},
   "source": [
    "Los nombres de variables están mantenidos cuando se guarda y carga los modelos. Por defecto, las variables en un modelo adquieren nombres únicos automáticamente."
   ]
  },
  {
   "cell_type": "markdown",
   "id": "34d48196",
   "metadata": {},
   "source": [
    "A veces hay variables que no queremos incluir en el proceso de entrenamiento, es decir, no hace falta su derivación. Se puede controlar eso con la propiedad `trainable`:"
   ]
  },
  {
   "cell_type": "code",
   "execution_count": null,
   "id": "c184ace8",
   "metadata": {},
   "outputs": [],
   "source": [
    "contador = tf.Variable(1, trainable=False)"
   ]
  }
 ],
 "metadata": {
  "kernelspec": {
   "display_name": "Python 3 (ipykernel)",
   "language": "python",
   "name": "python3"
  },
  "language_info": {
   "codemirror_mode": {
    "name": "ipython",
    "version": 3
   },
   "file_extension": ".py",
   "mimetype": "text/x-python",
   "name": "python",
   "nbconvert_exporter": "python",
   "pygments_lexer": "ipython3",
   "version": "3.9.17"
  }
 },
 "nbformat": 4,
 "nbformat_minor": 5
}
